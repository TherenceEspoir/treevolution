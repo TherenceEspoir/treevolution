{
 "cells": [
  {
   "cell_type": "code",
   "execution_count": 1,
   "id": "3b59014e-0e54-4143-8685-980a4f4b8fac",
   "metadata": {},
   "outputs": [
    {
     "name": "stdout",
     "output_type": "stream",
     "text": [
      "Obtaining file:///home/espoir/Bureau/M1I2L/AGILITE/treevolution-ehouedji\n",
      "  Installing build dependencies ... \u001b[?25ldone\n",
      "\u001b[?25h  Checking if build backend supports build_editable ... \u001b[?25ldone\n",
      "\u001b[?25h  Getting requirements to build editable ... \u001b[?25ldone\n",
      "\u001b[?25h  Installing backend dependencies ... \u001b[?25ldone\n",
      "\u001b[?25h  Preparing editable metadata (pyproject.toml) ... \u001b[?25ldone\n",
      "\u001b[?25hBuilding wheels for collected packages: treevolution\n",
      "  Building editable for treevolution (pyproject.toml) ... \u001b[?25ldone\n",
      "\u001b[?25h  Created wheel for treevolution: filename=treevolution-0.0.1-0.editable-py3-none-any.whl size=3456 sha256=64e938095226733ccd1ef266a5d26dfdae03884a216a5611c8cbcde3f22d448b\n",
      "  Stored in directory: /tmp/pip-ephem-wheel-cache-708zg3a1/wheels/b8/17/ce/6c94bb71e92714c88ce40412ddfdfd779c9b11df907afb918d\n",
      "Successfully built treevolution\n",
      "Installing collected packages: treevolution\n",
      "  Attempting uninstall: treevolution\n",
      "    Found existing installation: treevolution 0.0.1\n",
      "    Uninstalling treevolution-0.0.1:\n",
      "      Successfully uninstalled treevolution-0.0.1\n",
      "Successfully installed treevolution-0.0.1\n",
      "\u001b[33mWARNING: There was an error checking the latest version of pip.\u001b[0m\u001b[33m\n",
      "\u001b[0m"
     ]
    }
   ],
   "source": [
    "!pip install -e ."
   ]
  },
  {
   "cell_type": "code",
   "execution_count": 2,
   "id": "911d821a-9a43-41d0-ba75-061fee4ce19f",
   "metadata": {},
   "outputs": [
    {
     "name": "stdout",
     "output_type": "stream",
     "text": [
      "\u001b[1m============================= test session starts ==============================\u001b[0m\n",
      "platform linux -- Python 3.8.0, pytest-7.4.2, pluggy-1.3.0\n",
      "rootdir: /home/espoir/Bureau/M1I2L/AGILITE/treevolution-ehouedji\n",
      "plugins: anyio-3.7.1\n",
      "collected 20 items                                                             \u001b[0m\n",
      "\n",
      "tests/point_test.py \u001b[32m.\u001b[0m\u001b[32m.\u001b[0m\u001b[32m.\u001b[0m\u001b[32m.\u001b[0m\u001b[32m                                                 [ 20%]\u001b[0m\n",
      "tests/season_test.py \u001b[32m.\u001b[0m\u001b[32m.\u001b[0m\u001b[32m                                                  [ 30%]\u001b[0m\n",
      "tests/state_test.py \u001b[32m.\u001b[0m\u001b[32m                                                    [ 35%]\u001b[0m\n",
      "tests/tree_test.py \u001b[32m.\u001b[0m\u001b[32m.\u001b[0m\u001b[32m.\u001b[0m\u001b[32m.\u001b[0m\u001b[32m.\u001b[0m\u001b[32m.\u001b[0m\u001b[32m.\u001b[0m\u001b[32m.\u001b[0m\u001b[32m.\u001b[0m\u001b[32m                                             [ 80%]\u001b[0m\n",
      "tests/weather_test.py \u001b[32m.\u001b[0m\u001b[32m.\u001b[0m\u001b[32m                                                 [ 90%]\u001b[0m\n",
      "tests/world_test.py \u001b[32m.\u001b[0m\u001b[32m.\u001b[0m\u001b[32m                                                   [100%]\u001b[0m\n",
      "\n",
      "\u001b[32m============================== \u001b[32m\u001b[1m20 passed\u001b[0m\u001b[32m in 0.04s\u001b[0m\u001b[32m ==============================\u001b[0m\n"
     ]
    }
   ],
   "source": [
    "!pytest"
   ]
  },
  {
   "cell_type": "code",
   "execution_count": null,
   "id": "2bf7b8e1-8e6b-4775-9692-b2d3a1a8f8a7",
   "metadata": {},
   "outputs": [],
   "source": []
  }
 ],
 "metadata": {
  "kernelspec": {
   "display_name": "ml-venv",
   "language": "python",
   "name": "ml-venv"
  },
  "language_info": {
   "codemirror_mode": {
    "name": "ipython",
    "version": 3
   },
   "file_extension": ".py",
   "mimetype": "text/x-python",
   "name": "python",
   "nbconvert_exporter": "python",
   "pygments_lexer": "ipython3",
   "version": "3.8.0"
  }
 },
 "nbformat": 4,
 "nbformat_minor": 5
}
